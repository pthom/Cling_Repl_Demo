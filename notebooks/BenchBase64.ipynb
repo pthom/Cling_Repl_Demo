{
 "cells": [
  {
   "cell_type": "markdown",
   "metadata": {},
   "source": [
    "# Benchmark base64 algos\n",
    "\n",
    "A naive base64 algorithm is 30 times slower inside cling that with a standard exe.\n",
    "\n",
    "Using a fast base64 algorithm, like https://github.com/aklomp/base64 could improve the situation (it is 5 times faster than the naive implementation below in base64_naive.cpp), but the main reason of base64 being slow is not here; it could be 30 times faster.\n"
   ]
  },
  {
   "cell_type": "code",
   "execution_count": 1,
   "metadata": {},
   "outputs": [],
   "source": [
    "#define NO_MAIN\n",
    "#include \"base64_naive.cpp\"\n",
    "\n",
    "#include \"xtl/xbase64.hpp\""
   ]
  },
  {
   "cell_type": "code",
   "execution_count": 2,
   "metadata": {},
   "outputs": [],
   "source": [
    "auto buf = read_binary_file(\"data/lena.png\");"
   ]
  },
  {
   "cell_type": "code",
   "execution_count": 3,
   "metadata": {},
   "outputs": [],
   "source": [
    "  auto naive_base64_encode = [&]() {\n",
    "    base64_encode(buf.data(), buf.size());\n",
    "  };;"
   ]
  },
  {
   "cell_type": "code",
   "execution_count": 4,
   "metadata": {},
   "outputs": [],
   "source": [
    "  auto xtl_base64_encode = [&]() {\n",
    "    std::string buf_as_str(buf.begin(), buf.end());\n",
    "    xtl::base64encode(buf_as_str);\n",
    "  };;"
   ]
  },
  {
   "cell_type": "markdown",
   "metadata": {},
   "source": [
    "benchmark_function is a simple benchmark function see base64_naive.cpp (see below, I compare it to %%timeit; and it gives comparable results)\n"
   ]
  },
  {
   "cell_type": "code",
   "execution_count": 5,
   "metadata": {},
   "outputs": [
    {
     "data": {
      "text/plain": [
       "167.277"
      ]
     },
     "execution_count": 5,
     "metadata": {},
     "output_type": "execute_result"
    }
   ],
   "source": [
    "benchmark_function(naive_base64_encode, 10)"
   ]
  },
  {
   "cell_type": "code",
   "execution_count": 6,
   "metadata": {},
   "outputs": [
    {
     "data": {
      "text/plain": [
       "509.299"
      ]
     },
     "execution_count": 6,
     "metadata": {},
     "output_type": "execute_result"
    }
   ],
   "source": [
    "benchmark_function(xtl_base64_encode, 10)"
   ]
  },
  {
   "cell_type": "code",
   "execution_count": 7,
   "metadata": {},
   "outputs": [
    {
     "name": "stdout",
     "output_type": "stream",
     "text": [
      "156 ms +- 5.58 ms per loop (mean +- std. dev. of 7 runs 10 loops each)\n"
     ]
    }
   ],
   "source": [
    "%%timeit \n",
    "naive_base64_encode();"
   ]
  },
  {
   "cell_type": "markdown",
   "metadata": {},
   "source": [
    "The problem is that the execution time could be 30 times faster (debug), or even 80 times faster\n",
    "\n",
    "````bash\n",
    "> g++ base64_naive.cpp --std=c++11 -g # debug build\n",
    "> ./a.out\n",
    "naive_base64_encode : 6.29823ms\n",
    "\n",
    "> g++ base64_naive.cpp --std=c++11 -O3 # optimized build\n",
    "> ./a.out\n",
    "naive_base64_encode : 2.12909ms\n",
    "````\n",
    "\n",
    "This is not due to xeus see cling session below:\n",
    "\n",
    "````cpp\n",
    "> cling --std=c++11\n",
    "Warning in cling::IncrementalParser::CheckABICompatibility():\n",
    "  Possible C++ standard library mismatch, compiled with __GLIBCXX__ '20170814'\n",
    "  Extraction of runtime standard library version was: '20180720'\n",
    "\n",
    "****************** CLING ******************\n",
    "* Type C++ code and press enter to run it *\n",
    "*             Type .q to exit             *\n",
    "*******************************************\n",
    "[cling]$ .L base64_naive.cpp\n",
    "[cling]$ auto buf = read_binary_file(\"data/lena.png\");\n",
    "[cling]$   auto naive_base64_encode = [&]() {\n",
    "[cling]$ ?       base64_encode(buf.data(), buf.size());\n",
    "[cling]$ ?     };;\n",
    "[cling]$\n",
    "[cling]$ benchmark_function(naive_base64_encode, 10)\n",
    "(double) 153.873\n",
    "````"
   ]
  },
  {
   "cell_type": "code",
   "execution_count": null,
   "metadata": {},
   "outputs": [],
   "source": []
  }
 ],
 "metadata": {
  "kernelspec": {
   "display_name": "C++17",
   "language": "C++17",
   "name": "xeus-cling-cpp17"
  },
  "language_info": {
   "codemirror_mode": "text/x-c++src",
   "file_extension": ".cpp",
   "mimetype": "text/x-c++src",
   "name": "c++",
   "version": "-std=c++17"
  }
 },
 "nbformat": 4,
 "nbformat_minor": 2
}
