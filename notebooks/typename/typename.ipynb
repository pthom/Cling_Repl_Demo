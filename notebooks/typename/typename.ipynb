{
 "cells": [
  {
   "cell_type": "markdown",
   "metadata": {},
   "source": [
    "# Display friendly type names\n",
    "Using a homemade library (https://github.com/pthom/type_name). "
   ]
  },
  {
   "cell_type": "code",
   "execution_count": 1,
   "metadata": {},
   "outputs": [],
   "source": [
    "#include \"typ.cpp\"\n",
    "#include \"wip_lambda.cpp\""
   ]
  },
  {
   "cell_type": "code",
   "execution_count": 2,
   "metadata": {},
   "outputs": [
    {
     "name": "stdout",
     "output_type": "stream",
     "text": [
      "Full : const std::__cxx11::basic_string<char, std::char_traits<char>, std::allocator<char> >\n",
      "Clean: const std::string\n"
     ]
    }
   ],
   "source": [
    "std::cout << Typename_DefaultConstructibleType<std::string>();"
   ]
  },
  {
   "cell_type": "code",
   "execution_count": 3,
   "metadata": {},
   "outputs": [
    {
     "name": "stdout",
     "output_type": "stream",
     "text": [
      "Full : const std::vector<int, std::allocator<int> >\n",
      "Clean: const std::vector<int>\n"
     ]
    }
   ],
   "source": [
    "std::cout << Typename_DefaultConstructibleType<std::vector<int>>();"
   ]
  },
  {
   "cell_type": "code",
   "execution_count": 4,
   "metadata": {},
   "outputs": [
    {
     "name": "stdout",
     "output_type": "stream",
     "text": [
      "lambda: (int&, int&) -> std::pair<int, double> \n"
     ]
    }
   ],
   "source": [
    "{\n",
    "auto f = [](int & a, int & b)  { return std::pair<int, double>(a + b, cos(a + b)); };\n",
    "std::cout << type_lambda(f) << \"\\n\";\n",
    "}"
   ]
  },
  {
   "cell_type": "code",
   "execution_count": 5,
   "metadata": {},
   "outputs": [
    {
     "name": "stdout",
     "output_type": "stream",
     "text": [
      "lambda: (int&, int&) -> std::pair<int, double> \n"
     ]
    }
   ],
   "source": [
    "{\n",
    "auto f = [](int & a, int & b)  { return std::pair<int, double>(a + b, cos(a + b)); };\n",
    "std::cout << type_lambda(f) << \"\\n\";\n",
    "}"
   ]
  },
  {
   "cell_type": "code",
   "execution_count": 6,
   "metadata": {},
   "outputs": [],
   "source": [
    "#pragma cling add_include_path(\"../../external/FunctionalPlus/include\")\n",
    "#include <fplus/fplus.hpp>"
   ]
  },
  {
   "cell_type": "code",
   "execution_count": 7,
   "metadata": {},
   "outputs": [
    {
     "name": "stdout",
     "output_type": "stream",
     "text": [
      "std::_Mem_fn<int (fplus::fwd::internal::compose_helper<__cling_Un1Qu36(void*)::$_0, __cling_Un1Qu36(void*)::$_1>::*)(int&&) const>\n",
      "\n",
      "lambda: (int&&) -> int "
     ]
    }
   ],
   "source": [
    "{\n",
    "    auto my_square = [](int a) { return a * a;};\n",
    "    auto my_double = [](int a) { return a * 2; };\n",
    "    auto ff = fplus::fwd::compose(my_square, my_double);\n",
    "    auto as_mem_fn = std::mem_fn( & decltype(ff)::operator()<int> );\n",
    "    std::cout << var_type_name_full(as_mem_fn) << '\\n';\n",
    "    \n",
    "    std::cout << '\\n';\n",
    "    std::cout << type_lambda_polymorphic<decltype(ff), int>(ff);\n",
    "}"
   ]
  },
  {
   "cell_type": "code",
   "execution_count": 8,
   "metadata": {},
   "outputs": [],
   "source": [
    "int my_function(int a, double b)\n",
    "{\n",
    "    return a + static_cast<int>(b);\n",
    "}"
   ]
  },
  {
   "cell_type": "code",
   "execution_count": 9,
   "metadata": {},
   "outputs": [],
   "source": [
    "auto my_lambda = [](int a, double b)\n",
    "{\n",
    "    return a + static_cast<int>(b);\n",
    "};"
   ]
  },
  {
   "cell_type": "code",
   "execution_count": 1,
   "metadata": {},
   "outputs": [
    {
     "name": "stdout",
     "output_type": "stream",
     "text": [
      "lambda: (int&, int&) -> std::pair<int, double> \n",
      "std::_Mem_fn<int (fplus::fwd::internal::compose_helper<test_lambdas()::$_1, test_lambdas()::$_2>::*)(int&&) const>\n",
      "\n",
      "lambda: (int&&) -> int "
     ]
    }
   ],
   "source": [
    "#include \"wip_lambda.cpp\"\n",
    "test_lambdas()"
   ]
  },
  {
   "cell_type": "code",
   "execution_count": 2,
   "metadata": {},
   "outputs": [
    {
     "name": "stderr",
     "output_type": "stream",
     "text": [
      "\u001b[1minput_line_9:3:51: \u001b[0m\u001b[0;1;31merror: \u001b[0m\u001b[1mreference to overloaded function could not be resolved; did you mean to call it?\u001b[0m\n",
      "    std::cout << type_lambda_polymorphic<decltype(fplus::split), std::string>(ff);\n",
      "\u001b[0;1;32m                                                  ^~~~~~~~~~~~\n",
      "\u001b[0m\u001b[1m../../external/FunctionalPlus/include/fplus/split.hpp:391:6: \u001b[0m\u001b[0;1;30mnote: \u001b[0mpossible target for call\u001b[0m\n",
      "auto split(const T& x, bool allow_empty, const ContainerIn& xs)\n",
      "\u001b[0;1;32m     ^\n",
      "\u001b[0m"
     ]
    },
    {
     "ename": "Interpreter Error",
     "evalue": "",
     "output_type": "error",
     "traceback": [
      "Interpreter Error: "
     ]
    }
   ],
   "source": [
    "{\n",
    "    std::cout << type_lambda_polymorphic<decltype(fplus::split), std::string>(ff);\n",
    "}"
   ]
  },
  {
   "cell_type": "code",
   "execution_count": null,
   "metadata": {},
   "outputs": [],
   "source": []
  }
 ],
 "metadata": {
  "kernelspec": {
   "display_name": "C++17",
   "language": "C++17",
   "name": "xeus-cling-cpp17"
  },
  "language_info": {
   "codemirror_mode": "text/x-c++src",
   "file_extension": ".cpp",
   "mimetype": "text/x-c++src",
   "name": "c++",
   "version": "-std=c++17"
  }
 },
 "nbformat": 4,
 "nbformat_minor": 2
}
