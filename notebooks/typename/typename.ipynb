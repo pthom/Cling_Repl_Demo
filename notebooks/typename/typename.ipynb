{
 "cells": [
  {
   "cell_type": "markdown",
   "metadata": {
    "slideshow": {
     "slide_type": "slide"
    }
   },
   "source": [
    "# `type_name` a developper friendly `typeid` header only alternative\n",
    "Display **readable** types and contents for C++ variables and lambdas. \n",
    "\n",
    "<!--\n",
    "![Build Status Travis](https://travis-ci.org/pthom/type_name.svg?branch=master)\n",
    "![Build Status AppVeyor](https://ci.appveyor.com/api/projects/status/github/pthom/type-name)\n",
    "-->\n",
    "\n",
    "<table>\n",
    "    <tr>\n",
    "      <td>\n",
    "        Travis <img src=\"https://travis-ci.org/pthom/type_name.svg?branch=master\" />\n",
    "     </td>\n",
    "     <td>\n",
    "        Windows <img src=\"https://ci.appveyor.com/api/projects/status/s6wmhg5q9l69w7aq/branch/master?svg=true\" />\n",
    "    </td>\n",
    "     <td>\n",
    "        License <img src=\"https://img.shields.io/badge/license-boost%201.0-blue.svg\" />\n",
    "    </td>\n",
    "    <td>\n",
    "        Try this online!\n",
    "        <a href=\"https://mybinder.org/v2/gh/pthom/Cling_Repl_Demo/typename?filepath=notebooks%2Ftypename%2Ftypename.ipynb\"> \n",
    "            <img src=\"https://mybinder.org/badge_logo.svg\" /> \n",
    "        </a>\n",
    "    </tr>\n",
    "</table>    "
   ]
  },
  {
   "cell_type": "markdown",
   "metadata": {},
   "source": [
    "In C++, [typeid.name()](https://en.cppreference.com/w/cpp/language/typeid) is able to display the type of variables.\n",
    "However it has several limitations:\n",
    "\n",
    "* `const`, `volatile`, `&&`qualifiers are ignored\n",
    "* if cannot identify the signature of lambdas functions\n",
    "+ it cannot identify the return type of a function with an auto specifier\n",
    "* the returned name if often unreadable : for example `std::set<std::string>` becomes\n",
    " ````\n",
    " std::set<std::__cxx11::basic_string<char, std::char_traits<char>, std::allocator<char> >, std::less<std::__cxx11::basic_string<char, std::char_traits<char>, std::allocator<char> > >, std::allocator<std::__cxx11::basic_string<char, std::char_traits<char>, std::allocator<char> > > >\n",
    " ````\n",
    " \n",
    "\n",
    "This library tries to overcomes some of these limitations. It is composed mainly of C++11 / C++14 functions. It also contains some macros in order to be able to display rvalue reference type, as well as variables names. Macros are prepended with a suffix 'm_'."
   ]
  },
  {
   "cell_type": "markdown",
   "metadata": {
    "slideshow": {
     "slide_type": "slide"
    }
   },
   "source": [
    "# Installation and usage\n",
    "`type_name`is a small header only library, so you just need to clone it and add it to your path.\n",
    "\n",
    "Then, include `type_name/type_name.hpp`.\n",
    "\n",
    "You can also try this directly inside [binder](https://mybinder.org/) : click on the \"launch binder\" at the top of this page. Beware, it require about 2 minutes to load; but then you will be able to run the code live from your browser!"
   ]
  },
  {
   "cell_type": "code",
   "execution_count": 23,
   "metadata": {
    "slideshow": {
     "slide_type": "-"
    }
   },
   "outputs": [],
   "source": [
    "// Special macro to change the include path (this is required for the binder demo)\n",
    "#pragma cling add_include_path(\"./include\")\n",
    "#include <type_name/type_name.hpp>\n",
    "// The includes below are not required, they are just used for the purpose of this manual\n",
    "#include <future> \n",
    "#include <numeric>\n",
    "#include <fplus/fplus.hpp>"
   ]
  },
  {
   "cell_type": "code",
   "execution_count": 22,
   "metadata": {
    "slideshow": {
     "slide_type": "subslide"
    }
   },
   "outputs": [],
   "source": [
    "// This macro is used later in this manual in order to display commands and their results\n",
    "#define run_show(cmd) \\\n",
    "{  \\\n",
    "    std::cout << #cmd << \"\\n\"; \\\n",
    "    std::cout << cmd << \"\\n\\n\"; \\\n",
    "}"
   ]
  },
  {
   "cell_type": "markdown",
   "metadata": {
    "slideshow": {
     "slide_type": "slide"
    }
   },
   "source": [
    "# Friendly type names for variables (clean type, name and value)"
   ]
  },
  {
   "cell_type": "markdown",
   "metadata": {},
   "source": [
    " ## Readable type names \n",
    "                 \n",
    "* `type_name::clean<T>()` is a function that will return a string containing\n",
    "   the readable type of a variable.\n",
    "* `type_name::show_details(T && v)` is a function that will return a string containing\n",
    "   the readable type of a variable, as well as its content\n",
    "* `tn_type_name_clean(var)` is a macro that will also return the full type,\n",
    "   but, it is able to also correctly display rvalue reference types.\n",
    "*  `tn_show_details(var)` is a macro that will return a string containing the name,\n",
    "   type and content of a variable (in this case, the underlying type of 'var'\n",
    "   has to have an 'ostream & operator<<')\n",
    "\n",
    "### Examples"
   ]
  },
  {
   "cell_type": "code",
   "execution_count": 3,
   "metadata": {
    "slideshow": {
     "slide_type": "subslide"
    }
   },
   "outputs": [],
   "source": [
    "// Lets define a function with an auto return type : what is its return type?\n",
    "auto my_range(int nb)\n",
    "{\n",
    "    std::list<int> l(nb);\n",
    "    std::iota(l.begin(), l.end(), 1);\n",
    "    return l;\n",
    "}\n",
    "auto v = my_range(5);"
   ]
  },
  {
   "cell_type": "code",
   "execution_count": 4,
   "metadata": {
    "slideshow": {
     "slide_type": "subslide"
    }
   },
   "outputs": [
    {
     "name": "stdout",
     "output_type": "stream",
     "text": [
      "type_name::clean<decltype(v)>()\n",
      "std::list<int>\n",
      "\n",
      "type_name::show_details(v)\n",
      "std::list<int> & = [1, 2, 3, 4, 5]\n",
      "\n",
      "tn_type_name_clean(v)\n",
      "std::list<int>\n",
      "\n",
      "tn_show_details(v)\n",
      "[std::list<int>] v = [1, 2, 3, 4, 5]\n",
      "\n"
     ]
    }
   ],
   "source": [
    "run_show(     type_name::clean<decltype(v)>()       )\n",
    "run_show(     type_name::show_details(v)            )\n",
    "run_show(     tn_type_name_clean(v)                 )\n",
    "run_show(     tn_show_details(v)                    )"
   ]
  },
  {
   "cell_type": "markdown",
   "metadata": {
    "slideshow": {
     "slide_type": "slide"
    }
   },
   "source": [
    "## Full type names\n",
    "* `type_name::full<T>()` is a function that will return a string containing\n",
    "   the full type of a variable.\n",
    "* `type_name::show_details_full(T && v)` is a function that will return a string containing\n",
    "   the full type of a variable, as well as its content\n",
    "* `tn_type_name_full(var)` is a macro that will also return the full type,\n",
    "   but, it is able to also correctly display rvalue reference types.\n",
    "*  `tn_show_details_full(var)` is a macro that will return a string containing the name,\n",
    "   type and content of a variable (in this case, the underlying type of 'var'\n",
    "   has to have an 'ostream & operator<<')\n"
   ]
  },
  {
   "cell_type": "code",
   "execution_count": 5,
   "metadata": {
    "slideshow": {
     "slide_type": "subslide"
    }
   },
   "outputs": [
    {
     "name": "stdout",
     "output_type": "stream",
     "text": [
      "type_name::full<decltype(v)>()\n",
      "std::__cxx11::list<int, std::allocator<int> >\n",
      "\n",
      "type_name::show_details_full(v)\n",
      "[std::__cxx11::list<int, std::allocator<int> >&] = [1, 2, 3, 4, 5]\n",
      "\n",
      "tn_type_name_full(v)\n",
      "std::__cxx11::list<int, std::allocator<int> >\n",
      "\n",
      "tn_show_details_full(v)\n",
      "[std::__cxx11::list<int, std::allocator<int> >] v = [1, 2, 3, 4, 5]\n",
      "\n"
     ]
    }
   ],
   "source": [
    "run_show(     type_name::full<decltype(v)>()             )\n",
    "run_show(     type_name::show_details_full(v)            )\n",
    "run_show(     tn_type_name_full(v)                       )\n",
    "run_show(     tn_show_details_full(v)                    )"
   ]
  },
  {
   "cell_type": "markdown",
   "metadata": {
    "slideshow": {
     "slide_type": "subslide"
    }
   },
   "source": [
    "### Full type versus readable type :\n",
    "Full types can quickly become unreadable, especially with templated types, such as in the STL."
   ]
  },
  {
   "cell_type": "code",
   "execution_count": 6,
   "metadata": {},
   "outputs": [
    {
     "name": "stdout",
     "output_type": "stream",
     "text": [
      "type_name::show_details_full(my_set)\n",
      "[std::set<std::__cxx11::basic_string<char, std::char_traits<char>, std::allocator<char> >, std::less<std::__cxx11::basic_string<char, std::char_traits<char>, std::allocator<char> > >, std::allocator<std::__cxx11::basic_string<char, std::char_traits<char>, std::allocator<char> > > >&] = [Hello, There]\n",
      "\n",
      "type_name::show_details(my_set)\n",
      "std::set<std::string> & = [Hello, There]\n",
      "\n"
     ]
    }
   ],
   "source": [
    "std::set<std::string> my_set { \"Hello\", \"There\"};\n",
    "run_show(     type_name::show_details_full(my_set)               )\n",
    "run_show(     type_name::show_details(my_set)                    )"
   ]
  },
  {
   "cell_type": "markdown",
   "metadata": {
    "slideshow": {
     "slide_type": "slide"
    }
   },
   "source": [
    "## Display the content of complex containers\n",
    "\n",
    "* `tn_show_details_cont` (macro) is a version of tn_show_details for complex containers\n",
    "   like \"std::map\". \"cont\" stands for \"container\".\n",
    "* `tn_show_details_full_cont` enables to display the full type and content\n",
    "\n",
    "These version are required for certains more complex containers, like \"std::map\". \"cont\" stands for \"container\"."
   ]
  },
  {
   "cell_type": "code",
   "execution_count": 7,
   "metadata": {},
   "outputs": [
    {
     "name": "stdout",
     "output_type": "stream",
     "text": [
      "tn_show_details_cont(my_map)\n",
      "[std::map<std::string, int>] my_map = [(a, 1), (b, 2), (c, 3)]\n",
      "\n",
      "tn_show_details_full_cont(my_map)\n",
      "[std::map<std::__cxx11::basic_string<char, std::char_traits<char>, std::allocator<char> >, int, std::less<std::__cxx11::basic_string<char, std::char_traits<char>, std::allocator<char> > >, std::allocator<std::pair<std::__cxx11::basic_string<char, std::char_traits<char>, std::allocator<char> > const, int> > >] my_map = [(a, 1), (b, 2), (c, 3)]\n",
      "\n"
     ]
    }
   ],
   "source": [
    "std::map<std::string, int> my_map {{{\"a\", 1}, {\"b\", 2}, {\"c\", 3} }};\n",
    "run_show(     tn_show_details_cont(my_map)                    )\n",
    "run_show(     tn_show_details_full_cont(my_map)               )"
   ]
  },
  {
   "cell_type": "markdown",
   "metadata": {
    "slideshow": {
     "slide_type": "slide"
    }
   },
   "source": [
    "# Identify the signature of non generic lambdas"
   ]
  },
  {
   "cell_type": "markdown",
   "metadata": {},
   "source": [
    "* `type_name::lambda_clean<LambdaFn>(LambdaFn fn)` is a function that will return a string containing\n",
    "   the readable signature of a non generic lambda\n",
    "* `type_name::lambda_clean<LambdaFn>(LambdaFn fn)` is a function that will return a string containing\n",
    "   the full signature of a non generic lambda\n",
    "\n",
    "*  `tn_show_details_lambda(var)` is a macro that will return a string containing the\n",
    "   readable signature of a lambda and its name\n",
    "\n",
    "*  `tn_show_details_lambda_full(var)` is a macro that will return a string containing the\n",
    "   full signature of a lambda and its name\n",
    "\n",
    "It is not alway easy to guess the return type of lambda. See the lambda below for example : it's return type is not easy to guess:"
   ]
  },
  {
   "cell_type": "code",
   "execution_count": 8,
   "metadata": {
    "slideshow": {
     "slide_type": "subslide"
    }
   },
   "outputs": [],
   "source": [
    "int start = 5;\n",
    "// what is the return type of this lambda ?\n",
    "auto mystery_lambda = [&start](int end) {    \n",
    "    return fplus::overlapping_pairs_cyclic( fplus::numbers(start, end) );\n",
    "};;"
   ]
  },
  {
   "cell_type": "code",
   "execution_count": 9,
   "metadata": {},
   "outputs": [
    {
     "name": "stdout",
     "output_type": "stream",
     "text": [
      "type_name::lambda_clean(mystery_lambda)\n",
      "lambda: (int) -> std::vector<std::pair<int, int>>\n",
      "\n",
      "tn_show_details_lambda(mystery_lambda)\n",
      "[lambda: (int) -> std::vector<std::pair<int, int>>] mystery_lambda\n",
      "\n"
     ]
    }
   ],
   "source": [
    "// Let's see\n",
    "run_show(            type_name::lambda_clean(mystery_lambda)          );\n",
    "run_show(            tn_show_details_lambda(mystery_lambda)           );"
   ]
  },
  {
   "cell_type": "markdown",
   "metadata": {
    "slideshow": {
     "slide_type": "subslide"
    }
   },
   "source": [
    "\n",
    "#### Note\n",
    "If we try to get the type of this lambda via `type_name_full`, we do not get much information..."
   ]
  },
  {
   "cell_type": "code",
   "execution_count": 10,
   "metadata": {},
   "outputs": [
    {
     "name": "stdout",
     "output_type": "stream",
     "text": [
      "__cling_Un1Qu37(void*)::$_0"
     ]
    }
   ],
   "source": [
    "std::cout << type_name::full<decltype(mystery_lambda)>();"
   ]
  },
  {
   "cell_type": "markdown",
   "metadata": {},
   "source": [
    "This is because \"mystery_lambda\" is actually a instance of a hidden class. We are actually looking for the signature of the operator() of this class. `type_lambda_clean` is able to extract the type of this operator and to display it in a readable way."
   ]
  },
  {
   "cell_type": "markdown",
   "metadata": {
    "slideshow": {
     "slide_type": "subslide"
    }
   },
   "source": [
    "### Just for fun (sic...), a comparison of `clean` vs `full` lambda type"
   ]
  },
  {
   "cell_type": "code",
   "execution_count": 23,
   "metadata": {},
   "outputs": [
    {
     "name": "stdout",
     "output_type": "stream",
     "text": [
      "(Clean) - [lambda: (std::set<std::string> const &) -> std::pair<std::string, unsigned long>] f\n",
      "\n",
      "(Full)  - [lambda: (std::set<std::__cxx11::basic_string<char, std::char_traits<char>, std::allocator<char> >, std::less<std::__cxx11::basic_string<char, std::char_traits<char>, std::allocator<char> > >, std::allocator<std::__cxx11::basic_string<char, std::char_traits<char>, std::allocator<char> > > > const&) -> std::pair<std::__cxx11::basic_string<char, std::char_traits<char>, std::allocator<char> >, unsigned long> ] f\n"
     ]
    }
   ],
   "source": [
    "{\n",
    "auto f = [](const std::set<std::string> & v) {\n",
    "    return  std::make_pair(\n",
    "        *v.begin(),\n",
    "        v.size()\n",
    "        );\n",
    "};\n",
    "\n",
    "std::cout << \"(Clean) - \" << show_details_lambda(f) << \"\\n\\n\";\n",
    "std::cout << \"(Full)  - \" << show_details_lambda_full(f) << std::endl;\n",
    "}"
   ]
  },
  {
   "cell_type": "markdown",
   "metadata": {
    "slideshow": {
     "slide_type": "slide"
    }
   },
   "source": [
    "# Identify the signature of generic lambdas"
   ]
  },
  {
   "cell_type": "markdown",
   "metadata": {},
   "source": [
    "* `type_name::lambda_generic_clean<Args...>(LambdaFn fn)` is a function that will return a string containing\n",
    "   the readable signature of a generic lambda. You will need to specify the type of the auto parameters\n",
    "* `type_name::lambda_generic_full<Args...>(LambdaFn fn)` is a function that will return a string containing\n",
    "   the full signature of a generic lambda.\n",
    "*  `tn_type_lamda_generic_fromparams_XXX(lambda, arg1, arg2, ...)` is a macro that will return a string containing the\n",
    "    signature of a generic lambda where you do not specify the args type, instead you give example of these types.\n",
    "    (XXX is the number of params of the lambda, and can vary from 1 to 5).\n",
    "\n",
    "Note: this is an advanced feature, and it might fail on certain compilers, such as gcc (in which case, you will get no output).\n",
    "\n",
    "### Example"
   ]
  },
  {
   "cell_type": "code",
   "execution_count": 11,
   "metadata": {
    "slideshow": {
     "slide_type": "subslide"
    }
   },
   "outputs": [],
   "source": [
    "auto add = [](auto a, auto b) {\n",
    "    return a + b; \n",
    "};;"
   ]
  },
  {
   "cell_type": "markdown",
   "metadata": {},
   "source": [
    "This lambda (\"add\") is a generic lambda (which means that at least one of its argument is specified with an \"auto\" type). It's behaviour is comparable to a template function.\n",
    "So, if we try to get the signature via \"type_name::lambda_clean\" we will run into an error. The solution is to provide the types of the input parameters:"
   ]
  },
  {
   "cell_type": "code",
   "execution_count": 12,
   "metadata": {
    "slideshow": {
     "slide_type": "-"
    }
   },
   "outputs": [
    {
     "name": "stdout",
     "output_type": "stream",
     "text": [
      "lambda: (int, double) -> double\n"
     ]
    }
   ],
   "source": [
    "// extract the lambda type using actual types\n",
    "std::cout << type_name::lambda_generic_clean<int, double>(add) << std::endl;"
   ]
  },
  {
   "cell_type": "markdown",
   "metadata": {
    "slideshow": {
     "slide_type": "subslide"
    }
   },
   "source": [
    "It can also be done by providing some example parameters : use `tn_type_lamda_generic_fromparams_XXX`, where X is the number of parameters of the lambda."
   ]
  },
  {
   "cell_type": "code",
   "execution_count": 13,
   "metadata": {},
   "outputs": [
    {
     "name": "stdout",
     "output_type": "stream",
     "text": [
      "lambda: (unsigned int, int) -> unsigned int"
     ]
    }
   ],
   "source": [
    "// extract the lambda type using example params\n",
    "std::cout << tn_type_lamda_generic_fromparams_2(add, 1u, -2);"
   ]
  },
  {
   "cell_type": "markdown",
   "metadata": {},
   "source": [
    "This second version is useful when you are lost in a forest of \"auto\" variables deep in the call stack, and you do not know the return type of the lambda, and you do not even know the type of the input parameters: in that case, if you have a working call example, then you can use it."
   ]
  },
  {
   "cell_type": "markdown",
   "metadata": {
    "slideshow": {
     "slide_type": "slide"
    }
   },
   "source": [
    "### A more contrieved generic lambda example"
   ]
  },
  {
   "cell_type": "code",
   "execution_count": 14,
   "metadata": {},
   "outputs": [
    {
     "name": "stdout",
     "output_type": "stream",
     "text": [
      "lambda: (int) -> std::map<int, std::vector<int>>"
     ]
    }
   ],
   "source": [
    "auto generic_lambda = [](auto b) {\n",
    "  std::vector<int> range = fplus::numbers(0, b);\n",
    "  return fplus::pairs_to_map_grouped( fplus::overlapping_pairs_cyclic(range) );\n",
    "};\n",
    "std::cout << type_name::lambda_generic_clean<int>(generic_lambda);"
   ]
  },
  {
   "cell_type": "markdown",
   "metadata": {
    "slideshow": {
     "slide_type": "slide"
    }
   },
   "source": [
    "# Identify the return type of an `auto` function"
   ]
  },
  {
   "cell_type": "markdown",
   "metadata": {},
   "source": [
    "Work in progress..."
   ]
  },
  {
   "cell_type": "code",
   "execution_count": 15,
   "metadata": {},
   "outputs": [],
   "source": [
    "auto auto_fonction(int b) {\n",
    "  std::vector<int> range = fplus::numbers(0, b);\n",
    "  return fplus::pairs_to_map_grouped( fplus::overlapping_pairs_cyclic(range) );\n",
    "};"
   ]
  },
  {
   "cell_type": "markdown",
   "metadata": {
    "slideshow": {
     "slide_type": "slide"
    }
   },
   "source": [
    "# The zoo of type qualifiers\n",
    "`type_name`handles quite well `const`, `volatile`, references (`&`), rvalue references (`&&`), and pointers (`*`). See below a demonstration "
   ]
  },
  {
   "cell_type": "code",
   "execution_count": 17,
   "metadata": {},
   "outputs": [],
   "source": [
    "auto foo = [](auto && x) {\n",
    "    run_show(     tn_type_name_clean(x)                                );\n",
    "    run_show(     type_name::clean<decltype(x)>()                      );\n",
    "};;\n",
    "\n",
    "#define test_call_foo(var, title)                                        \\\n",
    "    std::cout << \" *********** \" << title << \" ***********\\n\";           \\\n",
    "    std::cout << \"Bare variable (before the call)\\n\";                    \\\n",
    "    run_show(     type_name::clean<decltype(var)>()                    );\\\n",
    "    run_show(     tn_type_name_clean(var)                              );\\\n",
    "    std::cout << \"Now inside foo (pass by universal reference)\\n\";       \\\n",
    "    foo(var);"
   ]
  },
  {
   "cell_type": "code",
   "execution_count": 18,
   "metadata": {
    "slideshow": {
     "slide_type": "subslide"
    }
   },
   "outputs": [
    {
     "name": "stdout",
     "output_type": "stream",
     "text": [
      " *********** Calling with an int lvalue (transformed to a ref by the call) ***********\n",
      "Bare variable (before the call)\n",
      "type_name::clean<decltype(a)>()\n",
      "int\n",
      "\n",
      "tn_type_name_clean(a)\n",
      "int\n",
      "\n",
      "Now inside foo (pass by universal reference)\n",
      "tn_type_name_clean(x)\n",
      "int &\n",
      "\n",
      "type_name::clean<decltype(x)>()\n",
      "int &\n",
      "\n",
      " *********** Calling with a const lvalue reference ***********\n",
      "Bare variable (before the call)\n",
      "type_name::clean<decltype(b)>()\n",
      "int const &\n",
      "\n",
      "tn_type_name_clean(b)\n",
      "int const &\n",
      "\n",
      "Now inside foo (pass by universal reference)\n",
      "tn_type_name_clean(x)\n",
      "int const &\n",
      "\n",
      "type_name::clean<decltype(x)>()\n",
      "int const &\n",
      "\n",
      " *********** Calling with an rvalue reference ***********\n",
      "Bare variable (before the call)\n",
      "type_name::clean<decltype(42)>()\n",
      "int\n",
      "\n",
      "tn_type_name_clean(42)\n",
      "int\n",
      "\n",
      "Now inside foo (pass by universal reference)\n",
      "tn_type_name_clean(x)\n",
      "int &&\n",
      "\n",
      "type_name::clean<decltype(x)>()\n",
      "int &&\n",
      "\n",
      " *********** Calling with a const pointer ***********\n",
      "Bare variable (before the call)\n",
      "type_name::clean<decltype(c)>()\n",
      "int* const\n",
      "\n",
      "tn_type_name_clean(c)\n",
      "int* const\n",
      "\n",
      "Now inside foo (pass by universal reference)\n",
      "tn_type_name_clean(x)\n",
      "int* const &\n",
      "\n",
      "type_name::clean<decltype(x)>()\n",
      "int* const &\n",
      "\n",
      " *********** Calling with a pointer to const ***********\n",
      "Bare variable (before the call)\n",
      "type_name::clean<decltype(d)>()\n",
      "int const*\n",
      "\n",
      "tn_type_name_clean(d)\n",
      "int const*\n",
      "\n",
      "Now inside foo (pass by universal reference)\n",
      "tn_type_name_clean(x)\n",
      "int const* &\n",
      "\n",
      "type_name::clean<decltype(x)>()\n",
      "int const* &\n",
      "\n",
      " *********** Calling with a volatile int ***********\n",
      "Bare variable (before the call)\n",
      "type_name::clean<decltype(vol)>()\n",
      "int volatile\n",
      "\n",
      "tn_type_name_clean(vol)\n",
      "int volatile\n",
      "\n",
      "Now inside foo (pass by universal reference)\n",
      "tn_type_name_clean(x)\n",
      "int volatile &\n",
      "\n",
      "type_name::clean<decltype(x)>()\n",
      "int volatile &\n",
      "\n",
      " *********** Calling with a const ***********\n",
      "Bare variable (before the call)\n",
      "type_name::clean<decltype(e)>()\n",
      "int const\n",
      "\n",
      "tn_type_name_clean(e)\n",
      "int const\n",
      "\n",
      "Now inside foo (pass by universal reference)\n",
      "tn_type_name_clean(x)\n",
      "int const &\n",
      "\n",
      "type_name::clean<decltype(x)>()\n",
      "int const &\n",
      "\n"
     ]
    }
   ],
   "source": [
    "{\n",
    "    int a = 5;  \n",
    "    test_call_foo(a, \"Calling with an int lvalue (transformed to a ref by the call)\");\n",
    "    \n",
    "    int const &  b = a; \n",
    "    test_call_foo(b, \"Calling with a const lvalue reference\");\n",
    "    \n",
    "    test_call_foo(42, \"Calling with an rvalue reference\");\n",
    "    \n",
    "    int * const c = &a;\n",
    "    test_call_foo(c, \"Calling with a const pointer\");\n",
    "\n",
    "    int const * d = &a;\n",
    "    test_call_foo(d, \"Calling with a pointer to const\");\n",
    "\n",
    "    int volatile vol = 42;\n",
    "    test_call_foo(vol, \"Calling with a volatile int\");\n",
    "    \n",
    "    int const e = 5;  \n",
    "    test_call_foo(e, \"Calling with a const\");\n",
    "\n",
    "}"
   ]
  }
 ],
 "metadata": {
  "kernelspec": {
   "display_name": "C++17",
   "language": "C++17",
   "name": "xeus-cling-cpp17"
  },
  "language_info": {
   "codemirror_mode": "text/x-c++src",
   "file_extension": ".cpp",
   "mimetype": "text/x-c++src",
   "name": "c++",
   "version": "-std=c++17"
  }
 },
 "nbformat": 4,
 "nbformat_minor": 2
}
