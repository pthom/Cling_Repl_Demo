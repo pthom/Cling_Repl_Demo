{
 "cells": [
  {
   "cell_type": "markdown",
   "metadata": {
    "slideshow": {
     "slide_type": "slide"
    }
   },
   "source": [
    "# Display friendly type names\n",
    "Trying to solve the sad state of variables introspection at runtime: display a clean type, introspect lambda params and return types, etc.\n",
    "\n",
    "Using a homemade library (https://github.com/pthom/type_name). "
   ]
  },
  {
   "cell_type": "code",
   "execution_count": 1,
   "metadata": {
    "slideshow": {
     "slide_type": "-"
    }
   },
   "outputs": [],
   "source": [
    "#pragma cling add_include_path(\"../../external/type_name/src/include\")\n",
    "#pragma cling add_include_path(\"../../external/FunctionalPlus/include\")\n",
    "#include <type_name/type_name_clean.hpp>\n",
    "#include <type_name/details/lambda_typename.hpp>\n",
    "#include <fplus/fplus.hpp>"
   ]
  },
  {
   "cell_type": "markdown",
   "metadata": {
    "slideshow": {
     "slide_type": "slide"
    }
   },
   "source": [
    "# Friendly names for variables (clean type, name and value)"
   ]
  },
  {
   "cell_type": "markdown",
   "metadata": {},
   "source": [
    "## Basic usage\n",
    "### Standard variables\n",
    "Simply call `log_var(var)`, and you will see the type, name and content of the variable !"
   ]
  },
  {
   "cell_type": "code",
   "execution_count": 2,
   "metadata": {},
   "outputs": [
    {
     "name": "stdout",
     "output_type": "stream",
     "text": [
      "[std::vector<int>] values = [1, 2, 3]\n",
      "[int] a = 5\n"
     ]
    }
   ],
   "source": [
    "std::vector<int> values {1, 2, 3};\n",
    "log_var(values);\n",
    "int a = 5;\n",
    "log_var(a);"
   ]
  },
  {
   "cell_type": "markdown",
   "metadata": {
    "slideshow": {
     "slide_type": "subslide"
    }
   },
   "source": [
    "### Complex containers\n",
    "For certains containers (like `std::map`), you need to call `log_var_cont`. `cont` stands for `container`"
   ]
  },
  {
   "cell_type": "code",
   "execution_count": 3,
   "metadata": {},
   "outputs": [
    {
     "name": "stdout",
     "output_type": "stream",
     "text": [
      "[std::map<std::string, int>] my_map = [(a, 1), (b, 2), (c, 3)]\n"
     ]
    }
   ],
   "source": [
    "std::map<std::string, int> my_map {{{\"a\", 1}, {\"b\", 2}, {\"c\", 3} }};\n",
    "log_var_cont(my_map);"
   ]
  },
  {
   "cell_type": "markdown",
   "metadata": {
    "slideshow": {
     "slide_type": "slide"
    }
   },
   "source": [
    "## Comparative demo with different types\n",
    "Here we compare the full type with the \"cleaned\" version:"
   ]
  },
  {
   "cell_type": "code",
   "execution_count": 4,
   "metadata": {},
   "outputs": [],
   "source": [
    "#define log_clean_vs_full(var)          \\\n",
    "std::cout << \"(Clean) - \"; log_var(var);  \\\n",
    "std::cout << \"(Full)  - \"; log_var_full(var);\n",
    "\n",
    "#define log_clean_vs_full_cont(var)          \\\n",
    "std::cout << \"(Clean) - \"; log_var_cont(var);  \\\n",
    "std::cout << \"(Full)  - \"; log_var_full_cont(var);\n"
   ]
  },
  {
   "cell_type": "code",
   "execution_count": 5,
   "metadata": {
    "slideshow": {
     "slide_type": "subslide"
    }
   },
   "outputs": [
    {
     "name": "stdout",
     "output_type": "stream",
     "text": [
      "(Clean) - [int] a = 1\n",
      "(Full)  - [int] a = 1\n"
     ]
    }
   ],
   "source": [
    "{\n",
    "int a = 1;\n",
    "log_clean_vs_full(a);\n",
    "}"
   ]
  },
  {
   "cell_type": "code",
   "execution_count": 6,
   "metadata": {},
   "outputs": [
    {
     "name": "stdout",
     "output_type": "stream",
     "text": [
      "(Clean) - [std::string] v = hello\n",
      "(Full)  - [std::__cxx11::basic_string<char, std::char_traits<char>, std::allocator<char> >] v = hello\n"
     ]
    }
   ],
   "source": [
    "{\n",
    "std::string v(\"hello\");\n",
    "log_clean_vs_full(v);\n",
    "}"
   ]
  },
  {
   "cell_type": "code",
   "execution_count": 7,
   "metadata": {
    "slideshow": {
     "slide_type": "subslide"
    }
   },
   "outputs": [
    {
     "name": "stdout",
     "output_type": "stream",
     "text": [
      "(Clean) - [std::vector<int>] v = [1, 2, 3, 4, 5]\n",
      "(Full)  - [std::vector<int, std::allocator<int> >] v = [1, 2, 3, 4, 5]\n"
     ]
    }
   ],
   "source": [
    "{\n",
    "std::vector<int> v{{ 1, 2, 3, 4, 5}};\n",
    "log_clean_vs_full(v);\n",
    "}"
   ]
  },
  {
   "cell_type": "code",
   "execution_count": 8,
   "metadata": {},
   "outputs": [
    {
     "name": "stdout",
     "output_type": "stream",
     "text": [
      "(Clean) - [std::map<std::string, int>] v = [(a, 1), (b, 2), (c, 3)]\n",
      "(Full)  - [std::map<std::__cxx11::basic_string<char, std::char_traits<char>, std::allocator<char> >, int, std::less<std::__cxx11::basic_string<char, std::char_traits<char>, std::allocator<char> > >, std::allocator<std::pair<std::__cxx11::basic_string<char, std::char_traits<char>, std::allocator<char> > const, int> > >] v = [(a, 1), (b, 2), (c, 3)]\n"
     ]
    }
   ],
   "source": [
    "{\n",
    "std::map<std::string, int> v {{\n",
    "\t{\"a\", 1},\n",
    "\t{\"b\", 2},\n",
    "\t{\"c\", 3}\n",
    "}};\n",
    "log_clean_vs_full_cont(v);\n",
    "}"
   ]
  },
  {
   "cell_type": "code",
   "execution_count": 9,
   "metadata": {
    "slideshow": {
     "slide_type": "subslide"
    }
   },
   "outputs": [
    {
     "name": "stdout",
     "output_type": "stream",
     "text": [
      "(Clean) - [std::vector<std::string>] v = [a, b, c]\n",
      "(Full)  - [std::vector<std::__cxx11::basic_string<char, std::char_traits<char>, std::allocator<char> >, std::allocator<std::__cxx11::basic_string<char, std::char_traits<char>, std::allocator<char> > > >] v = [a, b, c]\n"
     ]
    }
   ],
   "source": [
    "{\n",
    "std::vector<std::string> v {{\n",
    "\t{\"a\"},\n",
    "\t{\"b\"},\n",
    "\t{\"c\"}\n",
    "}};\n",
    "log_clean_vs_full(v);\n",
    "}"
   ]
  },
  {
   "cell_type": "code",
   "execution_count": 10,
   "metadata": {},
   "outputs": [
    {
     "name": "stdout",
     "output_type": "stream",
     "text": [
      "(Clean) - [std::set<std::string>] v = [a, b, c]\n",
      "(Full)  - [std::set<std::__cxx11::basic_string<char, std::char_traits<char>, std::allocator<char> >, std::less<std::__cxx11::basic_string<char, std::char_traits<char>, std::allocator<char> > >, std::allocator<std::__cxx11::basic_string<char, std::char_traits<char>, std::allocator<char> > > >] v = [a, b, c]\n"
     ]
    }
   ],
   "source": [
    "{\n",
    "std::set<std::string> v {{\n",
    "\t{\"a\"},\n",
    "\t{\"b\"},\n",
    "\t{\"c\"}\n",
    "}};\n",
    "log_clean_vs_full(v);\n",
    "}"
   ]
  },
  {
   "cell_type": "markdown",
   "metadata": {
    "slideshow": {
     "slide_type": "slide"
    }
   },
   "source": [
    "# Log lambdas (params & return type + name)"
   ]
  },
  {
   "cell_type": "markdown",
   "metadata": {},
   "source": [
    "Normaly, the inspection of a lambda at runtime reveals only a random name and address. \n",
    "\n",
    "Here, we demonstrate how we can still extract some info from lambda functions. \n",
    "\n",
    "For each of the lambdas below, the call to `log_type_lambda_clean` will output the correct lambda input params / return type.  "
   ]
  },
  {
   "cell_type": "code",
   "execution_count": 11,
   "metadata": {
    "slideshow": {
     "slide_type": "subslide"
    }
   },
   "outputs": [
    {
     "name": "stdout",
     "output_type": "stream",
     "text": [
      "[lambda: () -> void] f\n"
     ]
    }
   ],
   "source": [
    "{\n",
    "auto f = [](){ std::cout << \"Hello\"; };\n",
    "log_type_lambda_clean(f);\n",
    "}"
   ]
  },
  {
   "cell_type": "code",
   "execution_count": 12,
   "metadata": {
    "slideshow": {
     "slide_type": "-"
    }
   },
   "outputs": [
    {
     "name": "stdout",
     "output_type": "stream",
     "text": [
      "[lambda: () -> unsigned int] f\n"
     ]
    }
   ],
   "source": [
    "{\n",
    "auto f = [](){ return 42u; };\n",
    "log_type_lambda_clean(f);\n",
    "}"
   ]
  },
  {
   "cell_type": "code",
   "execution_count": 15,
   "metadata": {
    "slideshow": {
     "slide_type": "subslide"
    }
   },
   "outputs": [
    {
     "name": "stdout",
     "output_type": "stream",
     "text": [
      "[lambda: (int, int) -> double] f\n"
     ]
    }
   ],
   "source": [
    "{\n",
    "int c = 5;\n",
    "auto f = [&c](int a, int b) -> double { return a + b + c; };\n",
    "log_type_lambda_clean(f);\n",
    "}"
   ]
  },
  {
   "cell_type": "code",
   "execution_count": 16,
   "metadata": {
    "slideshow": {
     "slide_type": "-"
    }
   },
   "outputs": [
    {
     "name": "stdout",
     "output_type": "stream",
     "text": [
      "[lambda: (int, int) -> std::pair<int, double>] f\n"
     ]
    }
   ],
   "source": [
    "{\n",
    "int c = 5;\n",
    "auto f = [](int a, int b)  { return std::pair<int, double>(a + b, cos(a + static_cast<double>(b))); };\n",
    "log_type_lambda_clean(f);\n",
    "}"
   ]
  },
  {
   "cell_type": "code",
   "execution_count": 17,
   "metadata": {},
   "outputs": [
    {
     "name": "stdout",
     "output_type": "stream",
     "text": [
      "[lambda: (std::string& const) -> std::string] f\n"
     ]
    }
   ],
   "source": [
    "{\n",
    "std::string prefix = \"a-\";\n",
    "auto f = [&prefix](const std::string &s)  { return prefix + s; };\n",
    "log_type_lambda_clean(f);\n",
    "}"
   ]
  },
  {
   "cell_type": "markdown",
   "metadata": {
    "slideshow": {
     "slide_type": "slide"
    }
   },
   "source": [
    "### Just for fun (sic...), a comparison of `clean` vs `full` lambda type"
   ]
  },
  {
   "cell_type": "code",
   "execution_count": 18,
   "metadata": {},
   "outputs": [
    {
     "name": "stdout",
     "output_type": "stream",
     "text": [
      "(Clean) - [lambda: (std::set const&<std::string>) -> std::pair<std::string, unsigned long>] f\n",
      "(Full)  - [lambda: (std::set<std::__cxx11::basic_string<char, std::char_traits<char>, std::allocator<char> >, std::less<std::__cxx11::basic_string<char, std::char_traits<char>, std::allocator<char> > >, std::allocator<std::__cxx11::basic_string<char, std::char_traits<char>, std::allocator<char> > > > const&) -> std::pair<std::__cxx11::basic_string<char, std::char_traits<char>, std::allocator<char> >, unsigned long> ] f\n"
     ]
    }
   ],
   "source": [
    "{\n",
    "auto f = [](const std::set<std::string> & v) {\n",
    "    return  std::make_pair(\n",
    "        *v.begin(),\n",
    "        v.size()\n",
    "        );\n",
    "};\n",
    "\n",
    "std::cout << \"(Clean) - \"; log_type_lambda_clean(f);\n",
    "std::cout << \"(Full)  - \"; log_type_lambda_full(f);\n",
    "}"
   ]
  }
 ],
 "metadata": {
  "celltoolbar": "Slideshow",
  "kernelspec": {
   "display_name": "C++17",
   "language": "C++17",
   "name": "xeus-cling-cpp17"
  },
  "language_info": {
   "codemirror_mode": "text/x-c++src",
   "file_extension": ".cpp",
   "mimetype": "text/x-c++src",
   "name": "c++",
   "version": "-std=c++17"
  }
 },
 "nbformat": 4,
 "nbformat_minor": 2
}
