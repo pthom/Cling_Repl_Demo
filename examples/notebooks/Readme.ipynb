{
 "cells": [
  {
   "cell_type": "markdown",
   "metadata": {
    "slideshow": {
     "slide_type": "slide"
    }
   },
   "source": [
    "# How to navigate in these documents\n",
    "\n",
    "*if you are reading this inside jupyter notebook*\n",
    "* Click on the \"Run\" button at the top in order to run each cell (or type \"Shift + Enter\" in order to run it, and go to the next cell)\n",
    "* For a better undertsanding, it is better to clear the outputs below: click on the \"Kernel\" menu, and select \"Restart & Clear Output\"\n",
    "\n",
    "\n",
    "*If you are viewing this via a slideshow* \n",
    "* navigate forward using the space bar\n",
    "* also use the arrows in the bottom right corner"
   ]
  },
  {
   "cell_type": "markdown",
   "metadata": {
    "slideshow": {
     "slide_type": "slide"
    }
   },
   "source": [
    "# Links to other demos\n",
    "* [A session of REPL / C++ with opencv](opencv_example.ipynb) (notebook here)\n",
    "* [A session of C++ showing functional programming with REPL](Functional_REPL.ipynb) (notebook here)\n",
    "* [Advices and Gotchas when using cling and jupyter](Advices_And_Gotchas.ipynb) (notebook here)\n",
    "* [Interactive C++ REPL session from the console](https://github.com/pthom/Cling_Repl_Demo/blob/master/examples/shell_cling/Shell_Functional_REPL.md) (web page on github)\n",
    "* [Main page](https://github.com/pthom/Cling_Repl_Demo/blob/master/Readme.md) (web page on github)\n",
    "\n",
    "# How to install these demos on a docker container\n",
    "\n",
    "See https://github.com/pthom/Cling_Repl_Demo/tree/master/scripts/Docker_Readme.md\n",
    "\n",
    "----------\n",
    "*You can close this window, as it was opened in a different browser window*"
   ]
  },
  {
   "cell_type": "code",
   "execution_count": null,
   "metadata": {},
   "outputs": [],
   "source": []
  }
 ],
 "metadata": {
  "celltoolbar": "Slideshow",
  "kernelspec": {
   "display_name": "C++17",
   "language": "C++17",
   "name": "xeus-cling-cpp17"
  },
  "language_info": {
   "codemirror_mode": "text/x-c++src",
   "file_extension": ".cpp",
   "mimetype": "text/x-c++src",
   "name": "c++",
   "version": "-std=c++17"
  }
 },
 "nbformat": 4,
 "nbformat_minor": 2
}
