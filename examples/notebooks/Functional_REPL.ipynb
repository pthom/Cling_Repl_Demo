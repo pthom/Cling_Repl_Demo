{
 "cells": [
  {
   "cell_type": "markdown",
   "metadata": {},
   "source": [
    "# A session of C++ showing functional programming with REPL\n",
    "\n",
    "### Links to other demos\n",
    "* [A session of REPL / C++ with opencv](opencv_example.ipynb) (notebook here)\n",
    "* [A session of C++ showing functional programming with REPL](Functional_REPL.ipynb) (notebook here)\n",
    "* [Advices and Gotchas when using cling and jupyter](Advices_And_Gotchas.ipynb) (notebook here)\n",
    "* [Interactive C++ REPL session from the console](https://github.com/pthom/Cling_Repl_Demo/blob/master/examples/shell_cling/Shell_Functional_REPL.md) (web page on github)\n",
    "* [Main page](https://github.com/pthom/Cling_Repl_Demo/blob/master/Readme.md) (web page on github)\n",
    "\n",
    "#### How to install these demos on a docker container\n",
    "\n",
    "See https://github.com/pthom/Cling_Repl_Demo/tree/master/Docker_xeus\n",
    "\n",
    "\n",
    "## About FunctionalPlus\n",
    "\n",
    "[FunctionalPlus](https://github.com/Dobiasd/FunctionalPlus) (also know as `fplus`) is a Functional Programming Library for C++. \n",
    "It feature an [api search engine](http://www.editgym.com/fplus-api-search/), which is inspired by [hoogle, haskell's api search engine](https://www.haskell.org/hoogle/).\n",
    "\n",
    "\n",
    "---------------\n",
    "\n",
    "# Demo\n",
    "\n",
    "**Important note**\n",
    "\n",
    "if you are reading this inside jupyter notebook:\n",
    "* Click on the \"Run\" button at the top in order to run each cell (or type \"Shift + Enter\" in order to run it, and go to the next cell)\n",
    "* For a better undertsanding of this page, it is better to clear the outputs below: click on the \"Kernel\" menu, and select \"Restart & Clear Output\"\n",
    "\n",
    "\n",
    "\n",
    "# Include fplus header\n",
    "\n",
    "(fplus is a header only library)"
   ]
  },
  {
   "cell_type": "code",
   "execution_count": 1,
   "metadata": {},
   "outputs": [],
   "source": [
    "#pragma cling add_include_path(\"../../external/FunctionalPlus/include\")\n",
    "#include <fplus/fplus.hpp>"
   ]
  },
  {
   "cell_type": "markdown",
   "metadata": {},
   "source": [
    "# Read some text\n",
    "Let's try to read some text.\n",
    "\n",
    "Note: If you do not end your line with a \";\", cling will output the result of the last computation"
   ]
  },
  {
   "cell_type": "code",
   "execution_count": null,
   "metadata": {},
   "outputs": [],
   "source": [
    "using namespace std;\n",
    "fplus::read_text_file(\"../../data/if.txt\") // no \";\""
   ]
  },
  {
   "cell_type": "markdown",
   "metadata": {},
   "source": [
    "Wow, where is our text ? fplus::read_text_file did not return a string !\n",
    "\n",
    "The reason for this is that fplus is a functional library,\n",
    "so that fplus::read_text_file(filename) does not perform the side effect :\n",
    "instead it returns a function which you need to invoke\n",
    "in order to perform the side effect.\n",
    "    \n",
    "Let's try again, and invoke the function : see the () at the end below"
   ]
  },
  {
   "cell_type": "code",
   "execution_count": null,
   "metadata": {},
   "outputs": [],
   "source": [
    "auto poem = fplus::read_text_file(\"../../data/if.txt\")();\n",
    "poem"
   ]
  },
  {
   "cell_type": "markdown",
   "metadata": {},
   "source": [
    "# Split the text into lines"
   ]
  },
  {
   "cell_type": "code",
   "execution_count": null,
   "metadata": {},
   "outputs": [],
   "source": [
    "// Let's try to split some lines\n",
    "const auto lines = fplus::split_lines(false, poem);"
   ]
  },
  {
   "cell_type": "code",
   "execution_count": null,
   "metadata": {},
   "outputs": [],
   "source": [
    "lines"
   ]
  },
  {
   "cell_type": "markdown",
   "metadata": {},
   "source": [
    "# Modify the text word by word\n",
    "Let's try to modify this poem, by applying a function\n",
    "that changes all letter of each word to lowercase, except the first letter of each word."
   ]
  },
  {
   "cell_type": "code",
   "execution_count": null,
   "metadata": {},
   "outputs": [],
   "source": [
    "// This is the function we want to apply to each word\n",
    "std::string capitalize_first_letter(const std::string & word) {\n",
    "    auto result = fplus::to_lower_case(word);\n",
    "    result[0] = toupper(result[0]);\n",
    "    return result;\n",
    "}\n",
    "\n",
    "capitalize_first_letter(\"hello\")"
   ]
  },
  {
   "cell_type": "markdown",
   "metadata": {},
   "source": [
    "## Let's start with the first line\n",
    "### First attempt : step by step\n",
    "With the code below, we can split the first line into words."
   ]
  },
  {
   "cell_type": "code",
   "execution_count": null,
   "metadata": {},
   "outputs": [],
   "source": [
    "const std::string first_line = lines[0];\n",
    "const auto words = fplus::split<std::string>(' ', false, first_line);\n",
    "words"
   ]
  },
  {
   "cell_type": "markdown",
   "metadata": {},
   "source": [
    "How to transform all these words using `capitalize_first_letter`? \n",
    "We will be using `fplus::transform` : it applies a given transformation to all the elements of a container.\n",
    "See it's documentation at http://www.editgym.com/fplus-api-search/"
   ]
  },
  {
   "cell_type": "code",
   "execution_count": null,
   "metadata": {},
   "outputs": [],
   "source": [
    "auto words_transformed = fplus::transform(capitalize_first_letter, words);\n",
    "words_transformed"
   ]
  },
  {
   "cell_type": "markdown",
   "metadata": {},
   "source": [
    "Then, we need to join our transformed words:"
   ]
  },
  {
   "cell_type": "code",
   "execution_count": null,
   "metadata": {},
   "outputs": [],
   "source": [
    "auto first_line_transformed = fplus::join(std::string(\" \"), words_transformed);\n",
    "first_line_transformed"
   ]
  },
  {
   "cell_type": "markdown",
   "metadata": {},
   "source": [
    "So, the final result for the first line could be written:"
   ]
  },
  {
   "cell_type": "code",
   "execution_count": null,
   "metadata": {},
   "outputs": [],
   "source": [
    "fplus::join( std::string(\" \"), \n",
    "             fplus::transform(capitalize_first_letter, \n",
    "                              fplus::split<std::string>(' ', false, first_line) \n",
    "                             )  \n",
    "           )"
   ]
  },
  {
   "cell_type": "markdown",
   "metadata": {},
   "source": [
    "### Second attempt \n",
    "`apply_by_words` is a higher order function that will transform a function f into another function\n",
    " that will appply f word by word"
   ]
  },
  {
   "cell_type": "code",
   "execution_count": null,
   "metadata": {},
   "outputs": [],
   "source": [
    "auto apply_by_words = [](auto f) {\n",
    "    return fplus::fwd::compose(\n",
    "        fplus::fwd::split(' ', false),\n",
    "        fplus::fwd::transform(f),\n",
    "        fplus::fwd::join(std::string(\" \"))\n",
    "    );\n",
    " };;  "
   ]
  },
  {
   "cell_type": "markdown",
   "metadata": {},
   "source": [
    "Note : the double \";;\" after the lambda definition is important\n",
    "This is a known bug in cling : see [Gotchas.ipynb](Gotchas.ipynb)"
   ]
  },
  {
   "cell_type": "code",
   "execution_count": null,
   "metadata": {},
   "outputs": [],
   "source": [
    "// Now let's instantiate apply_by_words with capitalize_first_letter\n",
    "// cap_words will be a lambda function of type : string -> string\n",
    "auto cap_words = apply_by_words(capitalize_first_letter);"
   ]
  },
  {
   "cell_type": "code",
   "execution_count": null,
   "metadata": {},
   "outputs": [],
   "source": [
    "// And let's try it\n",
    "cap_words(lines[0])"
   ]
  },
  {
   "cell_type": "markdown",
   "metadata": {},
   "source": [
    "## And now, let's transform all the lines\n",
    "`apply_by_lines` is another higher order function that will transform a function f into another function\n",
    " that will appply f word by word"
   ]
  },
  {
   "cell_type": "code",
   "execution_count": null,
   "metadata": {},
   "outputs": [],
   "source": [
    "// Let's continue\n",
    "auto apply_by_lines = [](auto f) {\n",
    "    return fplus::fwd::compose(\n",
    "        fplus::fwd::split_lines(false),\n",
    "        fplus::fwd::transform(f),\n",
    "        fplus::fwd::join(std::string(\"\\n\"))\n",
    "    );\n",
    " };; // the double ;; is voluntary here (bug in cling !)\n"
   ]
  },
  {
   "cell_type": "code",
   "execution_count": null,
   "metadata": {},
   "outputs": [],
   "source": [
    "auto cap_text = apply_by_lines(cap_words);;"
   ]
  },
  {
   "cell_type": "code",
   "execution_count": null,
   "metadata": {},
   "outputs": [],
   "source": [
    "// And now let's apply this to the complete poem\n",
    "cap_text(poem)"
   ]
  },
  {
   "cell_type": "markdown",
   "metadata": {},
   "source": [
    "# Let's make it a program : use fplus::interact\n",
    "\n",
    "`fplus::interact`is a higher order function that transforms a function string -> string into a program that read it's output from stdin and writes it output to stdout.\n",
    "\n"
   ]
  },
  {
   "cell_type": "code",
   "execution_count": null,
   "metadata": {},
   "outputs": [],
   "source": [
    "auto prog = fplus::interact(cap_text);"
   ]
  },
  {
   "cell_type": "markdown",
   "metadata": {},
   "source": [
    "Let's examine prog:"
   ]
  },
  {
   "cell_type": "code",
   "execution_count": null,
   "metadata": {},
   "outputs": [],
   "source": [
    "prog"
   ]
  },
  {
   "cell_type": "markdown",
   "metadata": {},
   "source": [
    "So, `prog` is itself a lambda. In order to construct a program, we need to call it inside main, like so: "
   ]
  },
  {
   "cell_type": "code",
   "execution_count": null,
   "metadata": {},
   "outputs": [],
   "source": [
    "int main() {\n",
    "    prog();\n",
    "}"
   ]
  },
  {
   "cell_type": "markdown",
   "metadata": {},
   "source": [
    "So, a full program that would apply our transformation to stdin and write to stdout could be written as below.\n",
    "(beware, this code can not be used inside this page, you need to copy / paste it into a cpp file)."
   ]
  },
  {
   "cell_type": "markdown",
   "metadata": {},
   "source": [
    "````cpp\n",
    "#include <fplus/fplus.hpp>\n",
    "\n",
    "std::string capitalize_first_letter(const std::string & word) {\n",
    "    auto result = fplus::to_lower_case(word);\n",
    "    result[0] = toupper(result[0]);\n",
    "    return result;\n",
    "}\n",
    "\n",
    "int main()\n",
    "{\n",
    "  auto apply_by_words = [](auto f) {\n",
    "    return fplus::fwd::compose(\n",
    "        fplus::fwd::split(' ', false),\n",
    "        fplus::fwd::transform(f),\n",
    "        fplus::fwd::join(std::string(\" \"))\n",
    "    );\n",
    "   };\n",
    "  auto apply_by_lines = [](auto f) {\n",
    "      return fplus::fwd::compose(\n",
    "          fplus::fwd::split_lines(false),\n",
    "          fplus::fwd::transform(f),\n",
    "          fplus::fwd::join(std::string(\"\\n\"))\n",
    "      );\n",
    "  };\n",
    "\n",
    "  auto cap_words = apply_by_words(capitalize_first_letter);\n",
    "  auto cap_text = apply_by_lines(cap_words);\n",
    "  auto prog = fplus::interact(cap_text);\n",
    "\n",
    "  prog();\n",
    "}\n",
    "````"
   ]
  }
 ],
 "metadata": {
  "kernelspec": {
   "display_name": "C++17",
   "language": "C++17",
   "name": "xeus-cling-cpp17"
  },
  "language_info": {
   "codemirror_mode": "text/x-c++src",
   "file_extension": ".cpp",
   "mimetype": "text/x-c++src",
   "name": "c++",
   "version": "-std=c++17"
  }
 },
 "nbformat": 4,
 "nbformat_minor": 2
}
